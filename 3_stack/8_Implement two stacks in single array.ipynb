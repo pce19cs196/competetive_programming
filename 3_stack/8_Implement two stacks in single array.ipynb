{
  "nbformat": 4,
  "nbformat_minor": 0,
  "metadata": {
    "colab": {
      "provenance": []
    },
    "kernelspec": {
      "name": "python3",
      "display_name": "Python 3"
    },
    "language_info": {
      "name": "python"
    }
  },
  "cells": [
    {
      "cell_type": "markdown",
      "source": [
        "#Implement two stacks in single array"
      ],
      "metadata": {
        "id": "ZWpsUatqaym0"
      }
    },
    {
      "cell_type": "code",
      "execution_count": 26,
      "metadata": {
        "id": "FTr0pc-3Vr_E"
      },
      "outputs": [],
      "source": [
        "class Stack:\n",
        "  def __init__(self,size):\n",
        "    self.size = size\n",
        "    self.stack = [-1 for i in range(size)]\n",
        "    self.top1 = -1\n",
        "    self.top2 = size\n",
        "\n",
        "  def insert(self,flagStart,val):\n",
        "    if flagStart:\n",
        "      if self.top1 == self.size-1 or self.top1+1 == self.top2 :\n",
        "        return \"overflow\"\n",
        "      self.top1 +=1\n",
        "      self.stack[self.top1] = val\n",
        "\n",
        "    else:\n",
        "      if self.top2 == 0 or self.top2-1 == self.top1 :\n",
        "        return \"overflow\"\n",
        "      self.top2 -=1\n",
        "      self.stack[self.top2] = val\n",
        "\n",
        "\n",
        "  def pop(self,popStart):\n",
        "    if popStart:\n",
        "      if self.top1 == -1:\n",
        "        return \"underflow\"\n",
        "      self.top1 -=1\n",
        "      return self.stack[self.top1+1]\n",
        "    else:\n",
        "      if self.top2 ==self.size:\n",
        "        return \"underflow\"\n",
        "      self.top2 +=1\n",
        "      return self.stack[self.top2-1]\n"
      ]
    },
    {
      "cell_type": "code",
      "source": [
        "stack1 = [1,2,3,4]\n",
        "stack2 = [9,10,11,12]\n",
        "\n",
        "obj1 = Stack(8)\n",
        "obj1.insert(1,1)\n",
        "obj1.insert(1,2)\n",
        "obj1.insert(1,3)\n",
        "obj1.insert(1,4)\n",
        "obj1.insert(0,9)\n",
        "obj1.insert(0,10)\n",
        "obj1.insert(0,11)\n",
        "obj1.insert(0,12)"
      ],
      "metadata": {
        "id": "PSLib81ijUXE"
      },
      "execution_count": 27,
      "outputs": []
    },
    {
      "cell_type": "code",
      "source": [
        "print(obj1.stack)"
      ],
      "metadata": {
        "colab": {
          "base_uri": "https://localhost:8080/"
        },
        "id": "sGRXVd8Dj5W3",
        "outputId": "e2e30044-1705-4cac-8604-4c0dc5486901"
      },
      "execution_count": 28,
      "outputs": [
        {
          "output_type": "stream",
          "name": "stdout",
          "text": [
            "[1, 2, 3, 4, 12, 11, 10, 9]\n"
          ]
        }
      ]
    },
    {
      "cell_type": "code",
      "source": [
        "obj1.insert(1,5)"
      ],
      "metadata": {
        "colab": {
          "base_uri": "https://localhost:8080/",
          "height": 36
        },
        "id": "qgtivz7hkYVY",
        "outputId": "856e3ca2-bba2-4abf-ebe2-cde06219d587"
      },
      "execution_count": 29,
      "outputs": [
        {
          "output_type": "execute_result",
          "data": {
            "text/plain": [
              "'overflow'"
            ],
            "application/vnd.google.colaboratory.intrinsic+json": {
              "type": "string"
            }
          },
          "metadata": {},
          "execution_count": 29
        }
      ]
    },
    {
      "cell_type": "code",
      "source": [
        "obj1.insert(0,13)"
      ],
      "metadata": {
        "colab": {
          "base_uri": "https://localhost:8080/",
          "height": 36
        },
        "id": "heaGvjCEkmyg",
        "outputId": "377075ac-edfd-45f2-8e1b-ddf796301a3c"
      },
      "execution_count": 30,
      "outputs": [
        {
          "output_type": "execute_result",
          "data": {
            "text/plain": [
              "'overflow'"
            ],
            "application/vnd.google.colaboratory.intrinsic+json": {
              "type": "string"
            }
          },
          "metadata": {},
          "execution_count": 30
        }
      ]
    },
    {
      "cell_type": "code",
      "source": [
        "obj1.pop(1)"
      ],
      "metadata": {
        "colab": {
          "base_uri": "https://localhost:8080/"
        },
        "id": "OA4LfBEPkrBX",
        "outputId": "4ea2bd6f-0d99-43cf-8d5a-767bac613fba"
      },
      "execution_count": 31,
      "outputs": [
        {
          "output_type": "execute_result",
          "data": {
            "text/plain": [
              "4"
            ]
          },
          "metadata": {},
          "execution_count": 31
        }
      ]
    },
    {
      "cell_type": "code",
      "source": [
        "obj1.pop(0)"
      ],
      "metadata": {
        "colab": {
          "base_uri": "https://localhost:8080/"
        },
        "id": "98kYJ6T_k0CN",
        "outputId": "8ac86b55-d117-4b06-fcca-b9e0764eec41"
      },
      "execution_count": 32,
      "outputs": [
        {
          "output_type": "execute_result",
          "data": {
            "text/plain": [
              "12"
            ]
          },
          "metadata": {},
          "execution_count": 32
        }
      ]
    },
    {
      "cell_type": "code",
      "source": [],
      "metadata": {
        "id": "39c7QA5rk5wY"
      },
      "execution_count": null,
      "outputs": []
    }
  ]
}