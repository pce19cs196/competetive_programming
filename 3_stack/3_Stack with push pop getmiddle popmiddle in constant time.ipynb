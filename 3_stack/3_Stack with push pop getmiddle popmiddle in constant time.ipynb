{
  "nbformat": 4,
  "nbformat_minor": 0,
  "metadata": {
    "colab": {
      "provenance": []
    },
    "kernelspec": {
      "name": "python3",
      "display_name": "Python 3"
    },
    "language_info": {
      "name": "python"
    }
  },
  "cells": [
    {
      "cell_type": "markdown",
      "source": [
        "#Design and Implement Special Stack Data Structure:  \n",
        "#push(), pop(), findMiddleElement(), deleteMiddleElement()\n",
        "#All operations in O(1) time complexity\n",
        "\n"
      ],
      "metadata": {
        "id": "tuomrp_zLZLD"
      }
    },
    {
      "cell_type": "markdown",
      "source": [
        "Approach: Using doubly linkedlist."
      ],
      "metadata": {
        "id": "IrFyTAjLMU9u"
      }
    },
    {
      "cell_type": "code",
      "execution_count": 17,
      "metadata": {
        "id": "eA_lchGA-qBK"
      },
      "outputs": [],
      "source": [
        "\n",
        "\n",
        "class Node:\n",
        "    def __init__(self,val):\n",
        "        self.val = val\n",
        "        self.next = None\n",
        "        self.prev = None\n",
        "\n"
      ]
    },
    {
      "cell_type": "code",
      "source": [
        "class Stack:\n",
        "    def __init__(self):\n",
        "        self.head = None\n",
        "        self.middle = None\n",
        "        self.size = 0\n",
        "\n",
        "    def push(self,val):\n",
        "        temp = Node(val)\n",
        "        temp.next = self.head\n",
        "        if self.head:\n",
        "            self.head.prev = temp\n",
        "            self.size+=1\n",
        "            if self.size%2 != 0:\n",
        "                self.middle = self.middle.prev\n",
        "        else:\n",
        "            self.size +=1\n",
        "            self.middle = temp\n",
        "\n",
        "        self.head = temp\n",
        "\n",
        "\n",
        "\n",
        "    def pop(self):\n",
        "        if not self.head: return\n",
        "        pop = self.head\n",
        "        self.head = self.head.next\n",
        "        if self.head: self.head.prev =None\n",
        "        val = pop.val\n",
        "        del pop\n",
        "\n",
        "        self.size -=1\n",
        "        if self.size%2 == 0:\n",
        "          self.middle = self.middle.next\n",
        "\n",
        "        return val\n",
        "\n",
        "    def getMiddle(self):\n",
        "      if not self.middle: return\n",
        "      return self.middle.val\n",
        "\n",
        "\n",
        "    def popMiddle(self):\n",
        "      if not self.middle : return\n",
        "      middle = self.middle\n",
        "      popped = middle.val\n",
        "\n",
        "      if self.middle.prev: self.middle.prev.next = self.middle.next\n",
        "      if self.middle.next: self.middle.next.prev = self.middle.prev\n",
        "\n",
        "      if self.size%2 == 0:\n",
        "        self.middle = self.middle.prev\n",
        "      else:\n",
        "        self.middle = self.middle.next\n",
        "\n",
        "      self.size -=1\n",
        "      return popped\n",
        ""
      ],
      "metadata": {
        "id": "sywlJBxN-w9R"
      },
      "execution_count": 31,
      "outputs": []
    },
    {
      "cell_type": "code",
      "source": [
        "ans = Stack()\n",
        "ans.push(1)\n",
        "ans.push(2)\n",
        "ans.push(3)\n",
        "ans.push(4)\n",
        "ans.push(5)"
      ],
      "metadata": {
        "id": "PsYXBF0xCPiC"
      },
      "execution_count": 32,
      "outputs": []
    },
    {
      "cell_type": "code",
      "source": [
        "ans.getMiddle()"
      ],
      "metadata": {
        "colab": {
          "base_uri": "https://localhost:8080/"
        },
        "id": "6iOH0pYXCWnO",
        "outputId": "61c86d9f-9823-4039-ef9c-7cab1bdd5d06"
      },
      "execution_count": 33,
      "outputs": [
        {
          "output_type": "execute_result",
          "data": {
            "text/plain": [
              "3"
            ]
          },
          "metadata": {},
          "execution_count": 33
        }
      ]
    },
    {
      "cell_type": "code",
      "source": [
        "ans.popMiddle()\n",
        "ans.getMiddle()"
      ],
      "metadata": {
        "colab": {
          "base_uri": "https://localhost:8080/"
        },
        "id": "n0uhlJEwCcM9",
        "outputId": "5d76be9d-b415-4dfd-8382-043121316b08"
      },
      "execution_count": 34,
      "outputs": [
        {
          "output_type": "execute_result",
          "data": {
            "text/plain": [
              "2"
            ]
          },
          "metadata": {},
          "execution_count": 34
        }
      ]
    },
    {
      "cell_type": "code",
      "source": [
        "ans.popMiddle()\n",
        "ans.getMiddle()"
      ],
      "metadata": {
        "colab": {
          "base_uri": "https://localhost:8080/"
        },
        "id": "dYxPceN-Csmi",
        "outputId": "03a1366b-1fbc-4796-e02b-b7cf57d096ca"
      },
      "execution_count": 35,
      "outputs": [
        {
          "output_type": "execute_result",
          "data": {
            "text/plain": [
              "4"
            ]
          },
          "metadata": {},
          "execution_count": 35
        }
      ]
    },
    {
      "cell_type": "code",
      "source": [],
      "metadata": {
        "id": "NJg_IcMEC-AE"
      },
      "execution_count": null,
      "outputs": []
    }
  ]
}