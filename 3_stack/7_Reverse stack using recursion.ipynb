{
  "nbformat": 4,
  "nbformat_minor": 0,
  "metadata": {
    "colab": {
      "provenance": []
    },
    "kernelspec": {
      "name": "python3",
      "display_name": "Python 3"
    },
    "language_info": {
      "name": "python"
    }
  },
  "cells": [
    {
      "cell_type": "markdown",
      "source": [
        "\n",
        "#Write a program to reverse a stack using recursion."
      ],
      "metadata": {
        "id": "ZWpsUatqaym0"
      }
    },
    {
      "cell_type": "code",
      "execution_count": 13,
      "metadata": {
        "id": "FTr0pc-3Vr_E"
      },
      "outputs": [],
      "source": [
        "def reversal(stack):\n",
        "  if not stack: return\n",
        "  pop = stack.pop()\n",
        "  reversal(stack)\n",
        "  insertAtZero(pop,stack)   #Insert at the 0th index of stack\n",
        "\n",
        "def insertAtZero(pop , stack):         ##Recursive code for inserting at zeroth index of stack\n",
        "  if not stack:\n",
        "    stack.append(pop)\n",
        "    return\n",
        "  else:\n",
        "    popped = stack.pop()\n",
        "    insertAtZero(pop,stack)\n",
        "    stack.append(popped)"
      ]
    },
    {
      "cell_type": "code",
      "source": [
        "ans = [1,2,3,4,5]\n",
        "reversal(ans)\n",
        "print(ans)"
      ],
      "metadata": {
        "colab": {
          "base_uri": "https://localhost:8080/"
        },
        "id": "kdB-WHPgV9wg",
        "outputId": "5137c9a4-c81e-42da-d2d9-9dd1613d578f"
      },
      "execution_count": 14,
      "outputs": [
        {
          "output_type": "stream",
          "name": "stdout",
          "text": [
            "[5, 4, 3, 2, 1]\n"
          ]
        }
      ]
    },
    {
      "cell_type": "code",
      "source": [],
      "metadata": {
        "id": "9MCMAl0IWInQ"
      },
      "execution_count": null,
      "outputs": []
    }
  ]
}