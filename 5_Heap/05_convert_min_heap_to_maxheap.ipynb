{
  "nbformat": 4,
  "nbformat_minor": 0,
  "metadata": {
    "colab": {
      "provenance": []
    },
    "kernelspec": {
      "name": "python3",
      "display_name": "Python 3"
    },
    "language_info": {
      "name": "python"
    }
  },
  "cells": [
    {
      "cell_type": "markdown",
      "source": [
        "#Convert minheap to maxheap\n",
        "\n",
        "Idea : Given a minheap\n",
        "I will simply treat it as unsorted array , and take element at a time and convert it to the maxheap\n"
      ],
      "metadata": {
        "id": "26CHgGRxVfkh"
      }
    },
    {
      "cell_type": "code",
      "execution_count": 5,
      "metadata": {
        "colab": {
          "base_uri": "https://localhost:8080/"
        },
        "id": "4PwZAKWIVeD1",
        "outputId": "fb5a148f-433a-4b38-d082-27b42321fe50"
      },
      "outputs": [
        {
          "output_type": "execute_result",
          "data": {
            "text/plain": [
              "[-9, 2, 1, 4, 5, 8, 5, 12]"
            ]
          },
          "metadata": {},
          "execution_count": 5
        }
      ],
      "source": [
        "import heapq\n",
        "ls = [8,4,1,2,5,-9,5,12]\n",
        "heapq.heapify(ls)\n",
        "ls"
      ]
    },
    {
      "cell_type": "markdown",
      "source": [
        "Now that we have ls as input, we will simply treat as unsorted array and build maxheap with it\n",
        "Time: o(n)"
      ],
      "metadata": {
        "id": "0JEx98K3WgiZ"
      }
    },
    {
      "cell_type": "code",
      "source": [
        "maxheap = []\n",
        "for i in ls:\n",
        "  heapq.heappush(maxheap,-i)\n",
        "\n",
        "-maxheap[0]"
      ],
      "metadata": {
        "colab": {
          "base_uri": "https://localhost:8080/"
        },
        "id": "lhCTlcTpV0SZ",
        "outputId": "8d10d386-a47f-4c67-a6ce-e2b2c5d0ace4"
      },
      "execution_count": 6,
      "outputs": [
        {
          "output_type": "execute_result",
          "data": {
            "text/plain": [
              "12"
            ]
          },
          "metadata": {},
          "execution_count": 6
        }
      ]
    }
  ]
}